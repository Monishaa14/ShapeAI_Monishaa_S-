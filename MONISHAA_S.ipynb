{
  "nbformat": 4,
  "nbformat_minor": 0,
  "metadata": {
    "colab": {
      "name": "MONISHAA.S.ipynb",
      "provenance": [],
      "collapsed_sections": []
    },
    "kernelspec": {
      "name": "python3",
      "display_name": "Python 3"
    },
    "language_info": {
      "name": "python"
    }
  },
  "cells": [
    {
      "cell_type": "code",
      "metadata": {
        "id": "tr0ktXdY0St8"
      },
      "source": [
        "from keras.datasets import mnist \n",
        " \n",
        "data=mnist.load_data()"
      ],
      "execution_count": null,
      "outputs": []
    },
    {
      "cell_type": "markdown",
      "metadata": {
        "id": "bU7XhkXR3AGg"
      },
      "source": [
        "**Defining Train and Test data**"
      ]
    },
    {
      "cell_type": "code",
      "metadata": {
        "id": "tfpkpOli25B4"
      },
      "source": [
        "((x_train,y_train),(x_test,y_test))=data"
      ],
      "execution_count": null,
      "outputs": []
    },
    {
      "cell_type": "markdown",
      "metadata": {
        "id": "xdF4jUyf3ahW"
      },
      "source": [
        "**Reshape**"
      ]
    },
    {
      "cell_type": "markdown",
      "metadata": {
        "id": "x21M1Fdo277D"
      },
      "source": [
        "**Importing dataset**"
      ]
    },
    {
      "cell_type": "code",
      "metadata": {
        "id": "_q6dpb4k3a65"
      },
      "source": [
        "x_train = x_train.reshape((x_train.shape[0],28*28)).astype('float32')\n",
        "x_test = x_test.reshape((x_test.shape[0],28*28)).astype('float32')"
      ],
      "execution_count": null,
      "outputs": []
    },
    {
      "cell_type": "markdown",
      "metadata": {
        "id": "iTe5lrjNKsTZ"
      },
      "source": [
        "**Normalizing the test and train data set**"
      ]
    },
    {
      "cell_type": "code",
      "metadata": {
        "id": "As9gDyWJHuRV"
      },
      "source": [
        "x_train=x_train/255 \n",
        "x_test=x_test/255"
      ],
      "execution_count": null,
      "outputs": []
    },
    {
      "cell_type": "markdown",
      "metadata": {
        "id": "QoH-mWAbK1XD"
      },
      "source": [
        "**Converting output to categorical values**"
      ]
    },
    {
      "cell_type": "code",
      "metadata": {
        "id": "FZbbs7pTH51I"
      },
      "source": [
        "from keras.utils import np_utils \n",
        " \n",
        "y_train=np_utils.to_categorical(y_train)\n",
        "y_test=np_utils.to_categorical(y_test) \n",
        " \n",
        "num_classes=y_test.shape[1]"
      ],
      "execution_count": null,
      "outputs": []
    },
    {
      "cell_type": "markdown",
      "metadata": {
        "id": "ZAItyTqbK9mM"
      },
      "source": [
        "**Importing modules for activation**"
      ]
    },
    {
      "cell_type": "code",
      "metadata": {
        "id": "4IfHtn8sInQs"
      },
      "source": [
        "from keras.models import Sequential \n",
        "from keras.layers import Dense"
      ],
      "execution_count": null,
      "outputs": []
    },
    {
      "cell_type": "markdown",
      "metadata": {
        "id": "rBheW7KCRgCJ"
      },
      "source": [
        "**Activating the model**"
      ]
    },
    {
      "cell_type": "code",
      "metadata": {
        "id": "oJj-Cus2IwFC"
      },
      "source": [
        "model=Sequential() \n",
        "model.add(Dense(32,input_dim=28*28,activation=\"relu\"))\n",
        "model.add(Dense(64,activation=\"relu\")) \n",
        "model.add(Dense(10,activation=\"softmax\"))"
      ],
      "execution_count": null,
      "outputs": []
    },
    {
      "cell_type": "markdown",
      "metadata": {
        "id": "94qOY2-fLKDi"
      },
      "source": [
        "**Compiling the Model**"
      ]
    },
    {
      "cell_type": "code",
      "metadata": {
        "id": "cbcnIKItJZP6"
      },
      "source": [
        "model.compile(loss=\"categorical_crossentropy\",optimizer=\"adam\",metrics=[\"accuracy\"])"
      ],
      "execution_count": null,
      "outputs": []
    },
    {
      "cell_type": "markdown",
      "metadata": {
        "id": "p_GrOuAGLNl7"
      },
      "source": [
        "**SUMMARY**"
      ]
    },
    {
      "cell_type": "code",
      "metadata": {
        "colab": {
          "base_uri": "https://localhost:8080/"
        },
        "id": "FcC47MIfJqfF",
        "outputId": "6171fe97-76e5-4797-b9de-ef074921893c"
      },
      "source": [
        "model.summary()"
      ],
      "execution_count": null,
      "outputs": [
        {
          "output_type": "stream",
          "text": [
            "Model: \"sequential_1\"\n",
            "_________________________________________________________________\n",
            "Layer (type)                 Output Shape              Param #   \n",
            "=================================================================\n",
            "dense_3 (Dense)              (None, 32)                25120     \n",
            "_________________________________________________________________\n",
            "dense_4 (Dense)              (None, 64)                2112      \n",
            "_________________________________________________________________\n",
            "dense_5 (Dense)              (None, 10)                650       \n",
            "=================================================================\n",
            "Total params: 27,882\n",
            "Trainable params: 27,882\n",
            "Non-trainable params: 0\n",
            "_________________________________________________________________\n"
          ],
          "name": "stdout"
        }
      ]
    },
    {
      "cell_type": "markdown",
      "metadata": {
        "id": "9vDXHdgYLS3X"
      },
      "source": [
        "**Training the model**"
      ]
    },
    {
      "cell_type": "code",
      "metadata": {
        "colab": {
          "base_uri": "https://localhost:8080/"
        },
        "id": "Ow9jcZlFJzht",
        "outputId": "80ebb94a-cdc4-4031-e5d8-ec89e5a14349"
      },
      "source": [
        "model.fit(x_train, y_train, epochs=20, batch_size=100)"
      ],
      "execution_count": null,
      "outputs": [
        {
          "output_type": "stream",
          "text": [
            "Epoch 1/20\n",
            "600/600 [==============================] - 1s 1ms/step - loss: 0.7778 - accuracy: 0.7750\n",
            "Epoch 2/20\n",
            "600/600 [==============================] - 1s 1ms/step - loss: 0.2033 - accuracy: 0.9410\n",
            "Epoch 3/20\n",
            "600/600 [==============================] - 1s 1ms/step - loss: 0.1515 - accuracy: 0.9562\n",
            "Epoch 4/20\n",
            "600/600 [==============================] - 1s 1ms/step - loss: 0.1265 - accuracy: 0.9610\n",
            "Epoch 5/20\n",
            "600/600 [==============================] - 1s 1ms/step - loss: 0.1034 - accuracy: 0.9689\n",
            "Epoch 6/20\n",
            "600/600 [==============================] - 1s 1ms/step - loss: 0.0942 - accuracy: 0.9716\n",
            "Epoch 7/20\n",
            "600/600 [==============================] - 1s 1ms/step - loss: 0.0824 - accuracy: 0.9746\n",
            "Epoch 8/20\n",
            "600/600 [==============================] - 1s 1ms/step - loss: 0.0751 - accuracy: 0.9772\n",
            "Epoch 9/20\n",
            "600/600 [==============================] - 1s 1ms/step - loss: 0.0633 - accuracy: 0.9805\n",
            "Epoch 10/20\n",
            "600/600 [==============================] - 1s 1ms/step - loss: 0.0607 - accuracy: 0.9815\n",
            "Epoch 11/20\n",
            "600/600 [==============================] - 1s 1ms/step - loss: 0.0559 - accuracy: 0.9827\n",
            "Epoch 12/20\n",
            "600/600 [==============================] - 1s 1ms/step - loss: 0.0525 - accuracy: 0.9835\n",
            "Epoch 13/20\n",
            "600/600 [==============================] - 1s 1ms/step - loss: 0.0496 - accuracy: 0.9851\n",
            "Epoch 14/20\n",
            "600/600 [==============================] - 1s 2ms/step - loss: 0.0418 - accuracy: 0.9868\n",
            "Epoch 15/20\n",
            "600/600 [==============================] - 1s 1ms/step - loss: 0.0404 - accuracy: 0.9881\n",
            "Epoch 16/20\n",
            "600/600 [==============================] - 1s 1ms/step - loss: 0.0369 - accuracy: 0.9890\n",
            "Epoch 17/20\n",
            "600/600 [==============================] - 1s 1ms/step - loss: 0.0349 - accuracy: 0.9891\n",
            "Epoch 18/20\n",
            "600/600 [==============================] - 1s 1ms/step - loss: 0.0338 - accuracy: 0.9891\n",
            "Epoch 19/20\n",
            "600/600 [==============================] - 1s 1ms/step - loss: 0.0294 - accuracy: 0.9906\n",
            "Epoch 20/20\n",
            "600/600 [==============================] - 1s 1ms/step - loss: 0.0284 - accuracy: 0.9914\n"
          ],
          "name": "stdout"
        },
        {
          "output_type": "execute_result",
          "data": {
            "text/plain": [
              "<tensorflow.python.keras.callbacks.History at 0x7f7a5c4cd350>"
            ]
          },
          "metadata": {
            "tags": []
          },
          "execution_count": 45
        }
      ]
    },
    {
      "cell_type": "markdown",
      "metadata": {
        "id": "NicAF6hbLWgA"
      },
      "source": [
        "**Testing the Model**"
      ]
    },
    {
      "cell_type": "code",
      "metadata": {
        "colab": {
          "base_uri": "https://localhost:8080/"
        },
        "id": "VS-BhtieKOlL",
        "outputId": "6c8401de-d788-4e63-d247-7a688db95063"
      },
      "source": [
        "accuracy_rate=model.evaluate(x_test, y_test)"
      ],
      "execution_count": null,
      "outputs": [
        {
          "output_type": "stream",
          "text": [
            "313/313 [==============================] - 0s 698us/step - loss: 0.1150 - accuracy: 0.9706\n"
          ],
          "name": "stdout"
        }
      ]
    },
    {
      "cell_type": "markdown",
      "metadata": {
        "id": "Gn1jTni8Layd"
      },
      "source": [
        "**RESULT**"
      ]
    },
    {
      "cell_type": "code",
      "metadata": {
        "colab": {
          "base_uri": "https://localhost:8080/"
        },
        "id": "KJdhj5PTLcV0",
        "outputId": "6011f848-3556-463f-bc20-11415f5a6825"
      },
      "source": [
        "print(accuracy_rate)"
      ],
      "execution_count": null,
      "outputs": [
        {
          "output_type": "stream",
          "text": [
            "[0.11501234024763107, 0.9706000089645386]\n"
          ],
          "name": "stdout"
        }
      ]
    }
  ]
}